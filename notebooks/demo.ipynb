{
 "cells": [
  {
   "cell_type": "markdown",
   "id": "fe16c313-0edf-4967-af88-fa58aab30c95",
   "metadata": {},
   "source": [
    "# Pandas Demo\n",
    "\n",
    "This notebook demonstrates basic pandas functionality including:\n",
    "- Creating DataFrames\n",
    "- Basic operations\n",
    "- Data visualization"
   ]
  },
  {
   "cell_type": "code",
   "execution_count": null,
   "id": "c80c0622-c089-470a-8663-81f1d9419e0d",
   "metadata": {},
   "outputs": [],
   "source": [
    "import pandas as pd\n",
    "import numpy as np\n",
    "\n",
    "# Create a sample DataFrame\n",
    "data = {\n",
    "    'Name': ['Alice', 'Bob', 'Charlie', 'David', 'Eve'],\n",
    "    'Age': [25, 30, 35, 40, 45],\n",
    "    'City': ['New York', 'Paris', 'London', 'Tokyo', 'Berlin'],\n",
    "    'Salary': [70000, 80000, 90000, 100000, 110000]\n",
    "}\n",
    "\n",
    "df = pd.DataFrame(data)\n",
    "df"
   ]
  },
  {
   "cell_type": "code",
   "execution_count": null,
   "id": "7debd632-4c19-40b6-a736-4e28fcb9ed13",
   "metadata": {},
   "outputs": [],
   "source": [
    "# Basic DataFrame operations\n",
    "\n",
    "# Display basic info\n",
    "print(\"DataFrame Info:\")\n",
    "print(df.info())\n",
    "\n",
    "# Display statistics\n",
    "print(\"\\nDescriptive Statistics:\")\n",
    "print(df.describe())\n",
    "\n",
    "# Sort by salary\n",
    "print(\"\\nSorted by Salary:\")\n",
    "print(df.sort_values('Salary', ascending=False))\n",
    "\n",
    "# Filter data\n",
    "print(\"\\nPeople over 30:\")\n",
    "print(df[df['Age'] > 30])"
   ]
  },
  {
   "cell_type": "code",
   "execution_count": null,
   "id": "d7b45ad2-d5e7-4078-92b8-a52b53122869",
   "metadata": {},
   "outputs": [],
   "source": [
    "# Data visualization with pandas\n",
    "import matplotlib.pyplot as plt\n",
    "\n",
    "# Set up the plot style\n",
    "plt.style.use('ggplot')\n",
    "\n",
    "# Create a figure with subplots\n",
    "fig, axes = plt.subplots(1, 2, figsize=(12, 4))\n",
    "\n",
    "# Plot 1: Age distribution\n",
    "df['Age'].plot(kind='bar', ax=axes[0], color='skyblue')\n",
    "axes[0].set_title('Age Distribution')\n",
    "axes[0].set_ylabel('Age')\n",
    "\n",
    "# Plot 2: Salary by City\n",
    "df.plot(kind='scatter', x='City', y='Salary', ax=axes[1], color='green')\n",
    "axes[1].set_title('Salary by City')\n",
    "\n",
    "plt.tight_layout()\n",
    "plt.show()"
   ]
  },
  {
   "cell_type": "code",
   "execution_count": null,
   "id": "2d95c1b6-45f0-4de8-8fc8-c48da500067f",
   "metadata": {},
   "outputs": [],
   "source": []
  }
 ],
 "metadata": {
  "kernelspec": {
   "display_name": "Python 3 (ipykernel)",
   "language": "python",
   "name": "python3"
  },
  "language_info": {
   "codemirror_mode": {
    "name": "ipython",
    "version": 3
   },
   "file_extension": ".py",
   "mimetype": "text/x-python",
   "name": "python",
   "nbconvert_exporter": "python",
   "pygments_lexer": "ipython3",
   "version": "3.13.1"
  }
 },
 "nbformat": 4,
 "nbformat_minor": 5
}
