{
 "cells": [
  {
   "cell_type": "markdown",
   "metadata": {},
   "source": [
    "# The Beauty of Fractals: Mathematics Meets Art\n",
    "\n",
    "Fractals are infinitely complex patterns that are self-similar across different scales. They are created by repeating a simple process over and over in an ongoing feedback loop. From the coastlines of continents to the branching of trees, fractals appear everywhere in nature.\n",
    "\n",
    "## The Mandelbrot Set\n",
    "\n",
    "One of the most famous fractals is the Mandelbrot Set, discovered by mathematician Benoit Mandelbrot. This stunning mathematical object reveals infinite complexity at its boundary.\n",
    "\n",
    "![](https://upload.wikimedia.org/wikipedia/commons/thumb/2/21/Mandel_zoom_00_mandelbrot_set.jpg/640px-Mandel_zoom_00_mandelbrot_set.jpg)\n",
    "\n",
    "*The iconic Mandelbrot Set - a window into infinite mathematical complexity*"
   ]
  },
  {
   "cell_type": "code",
   "execution_count": null,
   "metadata": {},
   "outputs": [],
   "source": [
    "import numpy as np\n",
    "import matplotlib.pyplot as plt\n",
    "\n",
    "def mandelbrot(c, max_iter=100):\n",
    "    \"\"\"\n",
    "    Calculate the Mandelbrot set for a complex number c\n",
    "    \"\"\"\n",
    "    z = 0\n",
    "    for n in range(max_iter):\n",
    "        if abs(z) > 2:\n",
    "            return n\n",
    "        z = z*z + c\n",
    "    return max_iter\n",
    "\n",
    "def mandelbrot_set(xmin, xmax, ymin, ymax, width, height, max_iter=100):\n",
    "    \"\"\"\n",
    "    Generate the Mandelbrot set over a specified region\n",
    "    \"\"\"\n",
    "    # Create coordinate arrays\n",
    "    x = np.linspace(xmin, xmax, width)\n",
    "    y = np.linspace(ymin, ymax, height)\n",
    "    \n",
    "    # Create a 2D array to store the results\n",
    "    mandel = np.zeros((height, width))\n",
    "    \n",
    "    # Calculate the Mandelbrot set\n",
    "    for i in range(height):\n",
    "        for j in range(width):\n",
    "            c = complex(x[j], y[i])\n",
    "            mandel[i, j] = mandelbrot(c, max_iter)\n",
    "    \n",
    "    return mandel\n",
    "\n",
    "print(\"Mandelbrot set generator ready!\")"
   ]
  },
  {
   "cell_type": "code",
   "execution_count": null,
   "metadata": {},
   "outputs": [],
   "source": [
    "# Generate and plot a portion of the Mandelbrot set\n",
    "width, height = 400, 400\n",
    "xmin, xmax, ymin, ymax = -2.5, 1.0, -1.25, 1.25\n",
    "\n",
    "mandel = mandelbrot_set(xmin, xmax, ymin, ymax, width, height, max_iter=80)\n",
    "\n",
    "# Create the plot\n",
    "plt.figure(figsize=(10, 10))\n",
    "plt.imshow(mandel, extent=[xmin, xmax, ymin, ymax], \n",
    "           cmap='hot', origin='lower', interpolation='bilinear')\n",
    "plt.colorbar(label='Iterations to divergence')\n",
    "plt.title('The Mandelbrot Set', fontsize=16)\n",
    "plt.xlabel('Real axis')\n",
    "plt.ylabel('Imaginary axis')\n",
    "plt.tight_layout()\n",
    "plt.show()"
   ]
  },
  {
   "cell_type": "markdown",
   "metadata": {},
   "source": [
    "## Julia Sets: Cousins of the Mandelbrot\n",
    "\n",
    "Julia Sets are closely related to the Mandelbrot Set but offer their own unique beauty. Named after French mathematician Gaston Julia, these fractals are generated using similar mathematical principles but with a fixed complex parameter.\n",
    "\n",
    "![](https://upload.wikimedia.org/wikipedia/commons/thumb/1/17/Julia_set_%28highres_01%29.jpg/960px-Julia_set_%28highres_01%29.jpg)\n",
    "\n",
    "*A beautiful Julia Set with parameter c = -0.8 + 0.156i*\n",
    "\n",
    "Each point in the complex plane corresponds to a different Julia Set, creating an infinite family of fractals with stunning variety."
   ]
  },
  {
   "cell_type": "markdown",
   "metadata": {},
   "source": [
    "## Fractals in Nature\n",
    "\n",
    "Nature is full of fractal patterns! From the branching of trees and rivers to the structure of clouds and coastlines, fractals appear everywhere around us.\n",
    "\n",
    "### The Sierpiński Triangle\n",
    "\n",
    "One of the most elegant geometric fractals is the Sierpiński Triangle, which demonstrates how simple rules can create complex, beautiful patterns.\n",
    "\n",
    "![](https://upload.wikimedia.org/wikipedia/commons/0/0a/Sierpinski-rgb.png)\n",
    "\n",
    "*The Sierpiński Triangle - infinite triangles within triangles*\n",
    "\n",
    "This fractal can be generated using simple geometric rules or even by playing a \"chaos game\" with random points!"
   ]
  },
  {
   "cell_type": "code",
   "execution_count": null,
   "metadata": {},
   "outputs": [],
   "source": [
    "def sierpinski_chaos_game(n_points=50000):\n",
    "    \"\"\"\n",
    "    Generate the Sierpiński Triangle using the chaos game method\n",
    "    \"\"\"\n",
    "    # Define the three vertices of the triangle\n",
    "    vertices = np.array([[0, 0], [1, 0], [0.5, np.sqrt(3)/2]])\n",
    "    \n",
    "    # Start at a random point\n",
    "    current_point = np.random.random(2)\n",
    "    points = []\n",
    "    \n",
    "    for _ in range(n_points):\n",
    "        # Choose a random vertex\n",
    "        vertex = vertices[np.random.randint(3)]\n",
    "        \n",
    "        # Move halfway to the chosen vertex\n",
    "        current_point = (current_point + vertex) / 2\n",
    "        points.append(current_point.copy())\n",
    "    \n",
    "    return np.array(points)\n",
    "\n",
    "# Generate the Sierpiński Triangle\n",
    "points = sierpinski_chaos_game(30000)\n",
    "\n",
    "# Plot the result\n",
    "plt.figure(figsize=(10, 8))\n",
    "plt.scatter(points[:, 0], points[:, 1], s=0.1, c='purple', alpha=0.7)\n",
    "plt.title('Sierpiński Triangle (Chaos Game Method)', fontsize=16)\n",
    "plt.axis('equal')\n",
    "plt.axis('off')\n",
    "plt.tight_layout()\n",
    "plt.show()\n",
    "\n",
    "print(f\"Generated {len(points)} points to create the Sierpiński Triangle!\")"
   ]
  },
  {
   "cell_type": "markdown",
   "metadata": {},
   "source": [
    "## The Dragon Curve: Fractals from Simple Rules\n",
    "\n",
    "Another fascinating fractal is the Dragon Curve, which can be created by repeatedly folding a strip of paper in half and then unfolding it at right angles. This simple process creates a surprisingly complex and beautiful pattern.\n",
    "\n",
    "![](https://upload.wikimedia.org/wikipedia/commons/6/69/Fractal_dragon_curve.jpg)\n",
    "\n",
    "*The Dragon Curve showing successive iterations - from simple folds to complex beauty*\n",
    "\n",
    "## Conclusion\n",
    "\n",
    "Fractals demonstrate the incredible beauty that emerges from mathematical simplicity. Whether generated by complex equations like the Mandelbrot Set or simple rules like the Sierpiński Triangle, fractals reveal the hidden patterns that connect mathematics, nature, and art.\n",
    "\n",
    "### Key Takeaways:\n",
    "- **Self-similarity**: Fractals look similar at different scales\n",
    "- **Infinite complexity**: Simple rules can generate infinitely complex patterns  \n",
    "- **Universal presence**: Fractal patterns appear throughout nature\n",
    "- **Mathematical beauty**: Abstract mathematics can create stunning visual art\n",
    "\n",
    "*\"Clouds are not spheres, mountains are not cones, coastlines are not circles, and bark is not smooth, nor does lightning travel in a straight line.\"* - Benoit Mandelbrot"
   ]
  }
 ],
 "metadata": {
  "kernelspec": {
   "display_name": "Python 3 (ipykernel)",
   "language": "python",
   "name": "python3"
  },
  "language_info": {
   "codemirror_mode": {
    "name": "ipython",
    "version": 3
   },
   "file_extension": ".py",
   "mimetype": "text/x-python",
   "name": "python",
   "nbconvert_exporter": "python",
   "pygments_lexer": "ipython3",
   "version": "3.13.1"
  }
 },
 "nbformat": 4,
 "nbformat_minor": 4
}
